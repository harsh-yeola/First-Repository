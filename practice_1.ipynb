{
 "cells": [
  {
   "cell_type": "markdown",
   "id": "a6658687",
   "metadata": {},
   "source": [
    "You are using Copilot for free<br>\n",
    "Responses are limited to **2,000** `code completions` and **50** `chat messages` *per month*."
   ]
  },
  {
   "cell_type": "code",
   "execution_count": null,
   "id": "10b99975",
   "metadata": {},
   "outputs": [],
   "source": [
    "# vector embeddings for text using OpenAI's API and langchain framework\n",
    "import os\n",
    "from langchain.embeddings import OpenAIEmbeddings\n",
    "from langchain.vectorstores import Chroma\n",
    "from langchain.text_splitter import RecursiveCharacterTextSplitter\n",
    "from langchain.document_loaders import TextLoader\n",
    "from langchain.llms import OpenAI\n",
    "from langchain.chains import RetrievalQA"
   ]
  },
  {
   "cell_type": "code",
   "execution_count": null,
   "id": "6b84699b",
   "metadata": {},
   "outputs": [],
   "source": [
    "#"
   ]
  },
  {
   "cell_type": "code",
   "execution_count": null,
   "id": "43eda302",
   "metadata": {},
   "outputs": [],
   "source": []
  }
 ],
 "metadata": {
  "kernelspec": {
   "display_name": "Python 3",
   "language": "python",
   "name": "python3"
  },
  "language_info": {
   "name": "python",
   "version": "3.13.5"
  }
 },
 "nbformat": 4,
 "nbformat_minor": 5
}
