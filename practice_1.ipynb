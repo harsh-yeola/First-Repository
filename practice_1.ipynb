{
 "cells": [
  {
   "cell_type": "markdown",
   "id": "a6658687",
   "metadata": {},
   "source": [
    "You are using Copilot for free<br>\n",
    "Responses are limited to **2,000** `code completions` and **50** `chat messages` *per month*."
   ]
  },
  {
   "cell_type": "code",
   "execution_count": null,
   "id": "10b99975",
   "metadata": {},
   "outputs": [],
   "source": [
    "# vector embeddings for text using OpenAI's API and langchain framework\n",
    "import os\n",
    "from langchain.embeddings import OpenAIEmbeddings\n",
    "from langchain.vectorstores import Chroma\n",
    "from langchain.text_splitter import RecursiveCharacterTextSplitter\n",
    "from langchain.document_loaders import TextLoader\n",
    "from langchain.llms import OpenAI\n",
    "from langchain.chains import RetrievalQA"
   ]
  },
  {
   "cell_type": "code",
   "execution_count": null,
   "id": "6b84699b",
   "metadata": {},
   "outputs": [],
   "source": [
    "#"
   ]
  },
  {
   "cell_type": "code",
   "execution_count": null,
   "id": "43eda302",
   "metadata": {},
   "outputs": [],
   "source": [
    "# # common package installations\n",
    "# pip install --upgrade --quiet langchain_community\n",
    "# pip install --upgrade --quiet PyPDF2\n",
    "# # pip install --upgrade --quiet langchain-google-genai\n",
    "# # pip install --upgrade --quiet google-ai-generativelanguage==0.6.15\n",
    "# # pip install --upgrade --quiet langchain_huggingface\n",
    "# pip install --upgrade --quiet langchain-chroma\n",
    "# pip install --upgrade --quiet pypdf\n",
    "# pip install --quiet google-ai-generativelanguage==0.6.15\n",
    "# pip install --upgrade --quiet google-generativeai"
   ]
  },
  {
   "cell_type": "code",
   "execution_count": null,
   "id": "6642eaf9",
   "metadata": {},
   "outputs": [],
   "source": [
    "# common imports\n",
    "import getpass\n",
    "import os, csv\n",
    "\n",
    "from langchain_community.document_loaders import TextLoader\n",
    "from langchain_community.vectorstores import Chroma\n",
    "from langchain_community.document_loaders import PyPDFLoader\n",
    "from langchain_google_genai import ChatGoogleGenerativeAI\n",
    "from langchain_google_genai import GoogleGenerativeAIEmbeddings\n",
    "from langchain_core.prompts import ChatPromptTemplate\n",
    "from langchain.schema.runnable import RunnablePassthrough\n",
    "from langchain_core.output_parsers import StrOutputParser"
   ]
  },
  {
   "cell_type": "code",
   "execution_count": 2,
   "id": "99da85b4",
   "metadata": {},
   "outputs": [],
   "source": [
    "import os, csv"
   ]
  },
  {
   "cell_type": "code",
   "execution_count": null,
   "id": "962446e3",
   "metadata": {},
   "outputs": [],
   "source": [
    "# Document Summerization\n",
    "from langchain.prompts import PromptTemplate\n",
    "from langchain.chains.combine_documents.stuff import StuffDocumentsChain\n",
    "import textwrap"
   ]
  },
  {
   "cell_type": "code",
   "execution_count": null,
   "id": "77989780",
   "metadata": {},
   "outputs": [],
   "source": [
    "# Load documents\n",
    "file_path = '/content/Corporate Governance in India.pdf'\n",
    "loader = PyPDFLoader(file_path)\n",
    "documents = loader.load()\n",
    "print(f\"Loaded {len(documents)} documents from the folder.\")"
   ]
  },
  {
   "cell_type": "code",
   "execution_count": null,
   "id": "881a16cc",
   "metadata": {},
   "outputs": [],
   "source": [
    "# read the confige file\n",
    "config_file_path = r'./configs.txt'\n",
    "with open(config_file_path,'r') as config_file:\n",
    "    for row in csv.DictReader(config_file, delimiter='='):\n",
    "        vars()[row['variable_name']] = row['variable_value']"
   ]
  },
  {
   "cell_type": "code",
   "execution_count": null,
   "id": "52b6324b",
   "metadata": {},
   "outputs": [],
   "source": []
  },
  {
   "cell_type": "code",
   "execution_count": null,
   "id": "3eacfff8",
   "metadata": {},
   "outputs": [],
   "source": [
    "if \"GOOGLE_API_KEY\" not in os.environ:\n",
    "    os.environ[\"GOOGLE_API_KEY\"] = GEMINI_API_KEY"
   ]
  },
  {
   "cell_type": "code",
   "execution_count": null,
   "id": "4651c84a",
   "metadata": {},
   "outputs": [],
   "source": [
    "# Create LLM\n",
    "llm = ChatGoogleGenerativeAI(model=\"gemini-2.5-flash\")"
   ]
  },
  {
   "cell_type": "code",
   "execution_count": null,
   "id": "7ba74617",
   "metadata": {},
   "outputs": [],
   "source": [
    "# test LLM\n",
    "llm_response = llm.invoke(\"Tell me a joke about economics\")\n",
    "print(llm_response.content)"
   ]
  },
  {
   "cell_type": "markdown",
   "id": "55aec956",
   "metadata": {},
   "source": [
    "Here are a few economics jokes for you:\n",
    "\n",
    "1.  **How many economists does it take to change a lightbulb?**\n",
    "    One, but on the one hand, the old bulb might still have some utility, and on the other hand, the cost of replacement might not justify the marginal benefit.\n",
    "\n",
    "2.  **A physicist, a chemist, and an economist are stranded on a desert island with a can of food.**\n",
    "    The physicist says, \"We can calculate the force needed to open it.\"\n",
    "    The chemist says, \"We can analyze its composition to see if it's safe to eat.\"\n",
    "    The economist says, \"Assume we have a can opener.\"\n",
    "\n",
    "3.  **What's the difference between an economist and a prophet?**\n",
    "    A prophet can tell you what will happen. An economist can tell you why it didn't.\n",
    "\n",
    "4.  **Why did the economist break up with the statistician?**\n",
    "    He just couldn't deal with all the \"on the one hand, on the other hand\" arguments.\n",
    "\n",
    "Hope those give you a laugh!"
   ]
  },
  {
   "cell_type": "code",
   "execution_count": null,
   "id": "1b72d5c3",
   "metadata": {},
   "outputs": [],
   "source": [
    "# RAG development\n",
    "# Create embeding model\n",
    "embeddings = GoogleGenerativeAIEmbeddings(model=\"models/gemini-embedding-001\")"
   ]
  },
  {
   "cell_type": "code",
   "execution_count": null,
   "id": "784065ec",
   "metadata": {},
   "outputs": [],
   "source": [
    "# Create Chroma vector store from documents\n",
    "vectorstore = Chroma.from_documents(\n",
    "    documents=documents,\n",
    "    embedding=embeddings,\n",
    "    collection_name=\"my_document_collection\",\n",
    "    persist_directory=\"/content/chroma_db\"\n",
    ")"
   ]
  },
  {
   "cell_type": "code",
   "execution_count": null,
   "id": "249c6770",
   "metadata": {},
   "outputs": [],
   "source": [
    "retriever = vectorstore.as_retriever(search_kwargs={\"k\": 2})\n",
    "retriever.invoke(\"What this corporate gevernance?\")"
   ]
  },
  {
   "cell_type": "markdown",
   "id": "82f9c237",
   "metadata": {},
   "source": [
    "[Document(metadata={'author': 'mk sridhar', 'creationdate': '2022-01-28T06:21:12+00:00', 'page_label': '16', 'total_pages': 64, 'source': '/content/Corporate Governance in India.pdf', 'moddate': '2022-01-28T06:21:12+00:00', 'creator': 'Microsoft® Word 2016', 'producer': 'www.ilovepdf.com', 'page': 15}, page_content='12 \\n \\n \\n \\n \\n1. The Principles of Governance \\n \\n \\nThe OECD Principles of Corporate Governance, endorsed by OECD  Ministries have since become an \\ninternational benchmark for policy makers, investors, corporations and other stakeholders \\nworldwide. They have advanced the corporate governance agenda and provided specific guidance for \\nlegislative and regulatory initiatives in both OECD and non-OECD countries. \\n \\nThese principles are broadly: \\n \\n \\nSource:http://www.oecd.org/daf/ca/Corproate-Governance-Principles-ENG.pdf'),\n",
    " Document(metadata={'page': 20, 'author': 'mk sridhar', 'creationdate': '2022-01-28T06:21:12+00:00', 'total_pages': 64, 'creator': 'Microsoft® Word 2016', 'producer': 'www.ilovepdf.com', 'moddate': '2022-01-28T06:21:12+00:00', 'source': '/content/Corporate Governance in India.pdf', 'page_label': '21'}, page_content='17 \\n \\n \\nThe core concepts Corporate Governance can be summarised as: \\n \\na. Transparency \\n \\nTransparency leads to sufficient reporting without undermining the interest of the \\nclient. This needs the clarification of strategies and actions of the company for those \\nto whom it is accountable. The Financials are prepared in accordance with IFRS, \\nregistry filings are up-to-date, high quality Annual Reports are published,  Web based \\ndisclosure in place and timely accurate disclosures of all material matters are made. \\n \\nb. Rule of law \\n \\nUnderstand and abide by the various Rule of Law enacted. Anticipate future \\nrequirements and prepare well in time to ensure adherence. \\n \\nc. Participation \\n \\nEducate and involve all stakeholders in a fair manner while conducting the business. \\n \\nd. Responsiveness \\n \\nRespond in a timely, transparent and fair manner \\n \\ne. Responsibility. \\n \\nManagement Board is liable to shareholders and shareholders are liable to the \\nManagement Board. Responsibility gives success impetus. \\n \\nf. Equity \\n \\nBeing fair and practice equity. \\n \\ng. Ethics')]"
   ]
  },
  {
   "cell_type": "code",
   "execution_count": null,
   "id": "0dd034c3",
   "metadata": {},
   "outputs": [],
   "source": [
    "template = \"\"\"Answer the question based only on the following context:\n",
    "{context}\n",
    "\n",
    "Question: {question}\n",
    "\n",
    "Answer: \"\"\"\n",
    "prompt = ChatPromptTemplate.from_template(template)"
   ]
  },
  {
   "cell_type": "code",
   "execution_count": null,
   "id": "b5bbcfb4",
   "metadata": {},
   "outputs": [],
   "source": [
    "rag_chain = (\n",
    "    {\"context\": retriever, \"question\": RunnablePassthrough()} | prompt\n",
    ")\n",
    "response = rag_chain.invoke(\"What this corporate gevernance?\")\n",
    "response"
   ]
  },
  {
   "cell_type": "markdown",
   "id": "30ffa1c0",
   "metadata": {},
   "source": [
    "ChatPromptValue(messages=[HumanMessage(content=\"Answer the question based only on the following context:\\n[Document(metadata={'page_label': '16', 'creator': 'Microsoft® Word 2016', 'author': 'mk sridhar', 'page': 15, 'producer': 'www.ilovepdf.com', 'total_pages': 64, 'moddate': '2022-01-28T06:21:12+00:00', 'creationdate': '2022-01-28T06:21:12+00:00', 'source': '/content/Corporate Governance in India.pdf'}, page_content='12 \\\\n \\\\n \\\\n \\\\n \\\\n1. The Principles of Governance \\\\n \\\\n \\\\nThe OECD Principles of Corporate Governance, endorsed by OECD  Ministries have since become an \\\\ninternational benchmark for policy makers, investors, corporations and other stakeholders \\\\nworldwide. They have advanced the corporate governance agenda and provided specific guidance for \\\\nlegislative and regulatory initiatives in both OECD and non-OECD countries. \\\\n \\\\nThese principles are broadly: \\\\n \\\\n \\\\nSource:http://www.oecd.org/daf/ca/Corproate-Governance-Principles-ENG.pdf'), Document(metadata={'creator': 'Microsoft® Word 2016', 'moddate': '2022-01-28T06:21:12+00:00', 'source': '/content/Corporate Governance in India.pdf', 'author': 'mk sridhar', 'page_label': '21', 'page': 20, 'total_pages': 64, 'producer': 'www.ilovepdf.com', 'creationdate': '2022-01-28T06:21:12+00:00'}, page_content='17 \\\\n \\\\n \\\\nThe core concepts Corporate Governance can be summarised as: \\\\n \\\\na. Transparency \\\\n \\\\nTransparency leads to sufficient reporting without undermining the interest of the \\\\nclient. This needs the clarification of strategies and actions of the company for those \\\\nto whom it is accountable. The Financials are prepared in accordance with IFRS, \\\\nregistry filings are up-to-date, high quality Annual Reports are published,  Web based \\\\ndisclosure in place and timely accurate disclosures of all material matters are made. \\\\n \\\\nb. Rule of law \\\\n \\\\nUnderstand and abide by the various Rule of Law enacted. Anticipate future \\\\nrequirements and prepare well in time to ensure adherence. \\\\n \\\\nc. Participation \\\\n \\\\nEducate and involve all stakeholders in a fair manner while conducting the business. \\\\n \\\\nd. Responsiveness \\\\n \\\\nRespond in a timely, transparent and fair manner \\\\n \\\\ne. Responsibility. \\\\n \\\\nManagement Board is liable to shareholders and shareholders are liable to the \\\\nManagement Board. Responsibility gives success impetus. \\\\n \\\\nf. Equity \\\\n \\\\nBeing fair and practice equity. \\\\n \\\\ng. Ethics')]\\n\\nQuestion: What this corporate gevernance?\\n\\nAnswer: \", additional_kwargs={}, response_metadata={})])"
   ]
  },
  {
   "cell_type": "code",
   "execution_count": null,
   "id": "944516da",
   "metadata": {},
   "outputs": [],
   "source": [
    "def docs2str(docs):\n",
    "    return \"\\n\\n\".join(doc.page_content for doc in docs)"
   ]
  },
  {
   "cell_type": "code",
   "execution_count": null,
   "id": "ffb7ff5f",
   "metadata": {},
   "outputs": [],
   "source": [
    "rag_chain = (\n",
    "    {\"context\": retriever | docs2str, \"question\": RunnablePassthrough()}\n",
    "    | prompt\n",
    "    | llm\n",
    "    | StrOutputParser()\n",
    ")\n",
    "question = \"What this corporate gevernance?\"\n",
    "response = rag_chain.invoke(question)\n",
    "print(response)"
   ]
  },
  {
   "cell_type": "markdown",
   "id": "1b4bed2e",
   "metadata": {},
   "source": [
    "Based on the provided context, the core concepts of Corporate Governance can be summarised as:\n",
    "\n",
    "*   **Transparency:** Leads to sufficient reporting without undermining the client's interest, clarifying strategies and actions, with financials prepared according to IFRS, up-to-date registry filings, high-quality Annual Reports, web-based disclosure, and timely accurate disclosures of all material matters.\n",
    "*   **Rule of law:** Understanding and abiding by enacted rules, anticipating future requirements, and preparing in time for adherence.\n",
    "*   **Participation:** Educating and involving all stakeholders fairly.\n",
    "*   **Responsiveness:** Responding in a timely, transparent, and fair manner.\n",
    "*   **Responsibility:** Management Board is liable to shareholders and vice-versa, which gives success impetus.\n",
    "*   **Equity:** Being fair and practicing equity.\n",
    "*   **Ethics**\n",
    "\n",
    "Additionally, the OECD Principles of Corporate Governance are described as an international benchmark for policy makers, investors, corporations, and other stakeholders worldwide, advancing the corporate governance agenda and providing specific guidance for legislative and regulatory initiatives."
   ]
  },
  {
   "cell_type": "code",
   "execution_count": null,
   "id": "bbf981bb",
   "metadata": {},
   "outputs": [],
   "source": [
    "question = \"How to achieve corporate gevernance in corporations?\"\n",
    "response = rag_chain.invoke(question)\n",
    "print(response)"
   ]
  },
  {
   "cell_type": "markdown",
   "id": "4207eb23",
   "metadata": {},
   "source": [
    "Based on the provided context, corporate governance can be achieved by adhering to the following core concepts:\n",
    "\n",
    "*   **Transparency:**\n",
    "    *   Ensuring sufficient reporting without undermining the interest of the client.\n",
    "    *   Clarifying strategies and actions of the company for those to whom it is accountable.\n",
    "    *   Preparing Financials in accordance with IFRS.\n",
    "    *   Keeping registry filings up-to-date.\n",
    "    *   Publishing high quality Annual Reports.\n",
    "    *   Having web-based disclosure in place.\n",
    "    *   Making timely accurate disclosures of all material matters.\n",
    "*   **Rule of law:**\n",
    "    *   Understanding and abiding by the various enacted Rule of Law.\n",
    "    *   Anticipating future requirements and preparing well in time to ensure adherence.\n",
    "*   **Participation:**\n",
    "    *   Educating and involving all stakeholders in a fair manner while conducting the business.\n",
    "*   **Responsiveness:**\n",
    "    *   Responding in a timely, transparent, and fair manner.\n",
    "*   **Responsibility:**\n",
    "    *   Ensuring the Management Board is liable to shareholders and shareholders are liable to the Management Board.\n",
    "*   **Equity:**\n",
    "    *   Being fair and practicing equity.\n",
    "*   **Ethics** (The text lists this as a core concept but does not provide specific details on how to achieve it)."
   ]
  },
  {
   "cell_type": "code",
   "execution_count": null,
   "id": "b718307a",
   "metadata": {},
   "outputs": [],
   "source": [
    "# Document Summerization \n",
    "prompt_template = \"\"\"Write a concise summary of the following:\n",
    "\"{text}\"\n",
    "CONCISE SUMMARY:\"\"\"\n",
    "prompt = PromptTemplate.from_template(prompt_template)"
   ]
  },
  {
   "cell_type": "code",
   "execution_count": null,
   "id": "763bdf8e",
   "metadata": {},
   "outputs": [],
   "source": [
    "llm_chain = LLMChain(llm=llm, prompt=prompt)\n",
    "# llm_chain = (prompt | llm)"
   ]
  },
  {
   "cell_type": "code",
   "execution_count": null,
   "id": "81c84aad",
   "metadata": {},
   "outputs": [],
   "source": [
    "stuff_chain = StuffDocumentsChain(\n",
    "    llm_chain=llm_chain,\n",
    "    document_variable_name=\"text\"\n",
    "  )"
   ]
  },
  {
   "cell_type": "code",
   "execution_count": null,
   "id": "b14de24b",
   "metadata": {},
   "outputs": [],
   "source": [
    "output_summary = stuff_chain.run(documents)"
   ]
  },
  {
   "cell_type": "code",
   "execution_count": null,
   "id": "2c1c29b5",
   "metadata": {},
   "outputs": [],
   "source": [
    "wrapped_text = textwrap.fill(output_summary,\n",
    "                             width=100,\n",
    "                             break_long_words=False,\n",
    "                             replace_whitespace=False)\n",
    "print(wrapped_text)"
   ]
  },
  {
   "cell_type": "markdown",
   "id": "c5d2c98c",
   "metadata": {},
   "source": [
    "This e-book, published by the Southern India Regional Council of The Institute of Chartered\n",
    "Accountants of India and authored by CA. M K Sridhar, provides a comprehensive overview of Corporate\n",
    "Governance (CG) in India.\n",
    "\n",
    "It defines CG as a framework of internal controls, policies, and\n",
    "procedures ensuring transparency, integrity, ethics, and honesty in a company's operations and\n",
    "stakeholder dealings. The book traces CG's evolution in India since 1998, shaped by regulatory\n",
    "bodies like the Ministry of Corporate Affairs (MCA) and SEBI, and various committee recommendations\n",
    "(e.g., Kumaramangalam Birla, N.R. Narayana Murthy). It details the current legal framework,\n",
    "primarily the Companies Act, 2013, and SEBI regulations.\n",
    "\n",
    "Core CG principles discussed include the\n",
    "OECD guidelines, the \"4 Pillars\" (vision, stakeholder engagement, compliance/management,\n",
    "development/succession), and the \"4 P's\" (people, purpose, process, performance), emphasizing\n",
    "concepts like transparency, accountability, ethics, and sustainability. It outlines the corporate\n",
    "governance structure, the fiduciary roles of the Board of Directors and management, and the\n",
    "importance of IT governance.\n",
    "\n",
    "A significant portion covers Environmental, Social, and Governance\n",
    "(ESG) reporting, highlighting the transition from Business Responsibility Reporting (BRR) to the\n",
    "mandatory Business Responsibility and Sustainability Report (BRSR) for top listed entities, based on\n",
    "India's National Guidelines on Responsible Business Conduct (NGRBC). The e-book also introduces the\n",
    "Corporate Governance Scorecard for evaluating Indian companies, discusses Climate-Related Financial\n",
    "Disclosures (TCFD recommendations), and provides examples of past corporate governance failures."
   ]
  },
  {
   "cell_type": "code",
   "execution_count": null,
   "id": "136f2e28",
   "metadata": {},
   "outputs": [],
   "source": []
  },
  {
   "cell_type": "code",
   "execution_count": null,
   "id": "1c99d9c1",
   "metadata": {},
   "outputs": [],
   "source": [
    "prompt_template2 = \"\"\"Write a concise summary and with important concepts of the following:\n",
    "\"{text}\"\n",
    "\"\"\"\n",
    "prompt2 = PromptTemplate.from_template(prompt_template2)"
   ]
  },
  {
   "cell_type": "code",
   "execution_count": null,
   "id": "aa0b51da",
   "metadata": {},
   "outputs": [],
   "source": [
    "llm_chain2 = LLMChain(llm=llm, prompt=prompt2)"
   ]
  },
  {
   "cell_type": "code",
   "execution_count": null,
   "id": "f7cbe9b3",
   "metadata": {},
   "outputs": [],
   "source": [
    "stuff_chain2 = StuffDocumentsChain(\n",
    "    llm_chain=llm_chain2,\n",
    "    document_variable_name=\"text\"\n",
    "  )"
   ]
  },
  {
   "cell_type": "code",
   "execution_count": null,
   "id": "a332a04f",
   "metadata": {},
   "outputs": [],
   "source": [
    "output_summary2 = stuff_chain2.run(documents)"
   ]
  },
  {
   "cell_type": "code",
   "execution_count": null,
   "id": "ae99002a",
   "metadata": {},
   "outputs": [],
   "source": [
    "wrapped_text2 = textwrap.fill(output_summary2,\n",
    "                             width=100,\n",
    "                             break_long_words=False,\n",
    "                             replace_whitespace=False)\n",
    "print(wrapped_text2)"
   ]
  },
  {
   "cell_type": "markdown",
   "id": "829773b7",
   "metadata": {},
   "source": [
    "This e-book by CA. M K Sridhar, published by the Southern India Regional Council of The Institute of\n",
    "Chartered Accountants of India (ICAI), provides a comprehensive overview of **Corporate Governance\n",
    "(CG) in India**.\n",
    "\n",
    "---\n",
    "\n",
    "### Concise Summary:\n",
    "\n",
    "The e-book defines Corporate Governance as the\n",
    "framework of internal controls, policies, and procedures guiding a company's operations and\n",
    "interactions with various stakeholders, emphasizing principles of transparency, integrity, ethics,\n",
    "and honesty. It traces the evolution of CG in India since 1998, driven by initiatives from\n",
    "regulatory bodies like the Ministry of Corporate Affairs (MCA) and SEBI through various committees\n",
    "(e.g., Kumaramangalam Birla, Naresh Chandra, N R Narayana Murthy) and legislative actions (Companies\n",
    "Act, SEBI Regulations). The document highlights India's robust CG standards, which are considered\n",
    "among the best globally. Recent advancements include mandatory Corporate Social Responsibility (CSR)\n",
    "and the move towards comprehensive Environmental, Social, and Governance (ESG) reporting via the\n",
    "Business Responsibility and Sustainability Report (BRSR) based on the National Guidelines on\n",
    "Responsible Business Conduct (NGRBC). The e-book details the core principles, structural elements,\n",
    "and the importance of measuring CG effectiveness through scorecards and addressing climate-related\n",
    "financial disclosures (TCFD), aiming to serve as a guide for professionals to foster ethical\n",
    "corporate practices.\n",
    "\n",
    "---\n",
    "\n",
    "### Important Concepts:\n",
    "\n",
    "1.  **Definition of Corporate Governance:** A\n",
    "system of internal controls, policies, and procedures forming a company's operational framework,\n",
    "dealing with stakeholders, and upholding principles of transparency, integrity, ethics, and honesty.\n",
    "It's considered the \"soul of an organization.\"\n",
    "2.  **Evolution in India:**\n",
    "    *   Initiated by\n",
    "**Confederation of Indian Industries (CII)** in 1995 (Rahul Bajaj Committee), leading to a voluntary\n",
    "\"Desirable Corporate Governance\" code (1998).\n",
    "    *   Further shaped by **SEBI** (Kumaramangalam\n",
    "Birla Committee, 1999; N R Narayana Murthy Committee, 2002) and **MCA** (Naresh Chandra Committee,\n",
    "2002).\n",
    "    *   Key legislative frameworks: **Companies Act (2013)**, **SEBI (Listing Obligations and\n",
    "Disclosure Requirements) Regulations, 2015**, and the **Listing Agreement**.\n",
    "3.  **National\n",
    "Guidelines on Responsible Business Conduct (NGRBC):** Formulated by MCA in 2019, superseding NVGs,\n",
    "these nine principles guide businesses on ethical conduct, sustainability, employee well-being,\n",
    "stakeholder engagement, human rights, environmental protection, responsible public advocacy,\n",
    "inclusive growth, and customer value.\n",
    "4.  **Core Principles of Governance (OECD & General):**\n",
    "    *\n",
    "**OECD Principles:** Effective governance framework, shareholder rights and equitable treatment,\n",
    "role of institutional investors, stakeholder engagement, disclosure and transparency, and board\n",
    "responsibilities.\n",
    "    *   **Fundamental Concepts:** Transparency, Rule of Law, Participation,\n",
    "Responsiveness, Responsibility, Equity, Ethics, Efficiency & Effectiveness, Independence,\n",
    "Sustainability, Accountability, Fairness, Trusteeship (of directors), Empowerment, Oversight,\n",
    "External Audit, Regulatory Regime, and Whistleblowers policy.\n",
    "5.  **Four Pillars of Good Governance\n",
    "Practice:**\n",
    "    *   **Vision & Mission:** Clear direction, viability, and sustainability.\n",
    "    *\n",
    "**Stakeholder Engagement:** Understanding and interacting with key stakeholders.\n",
    "    *\n",
    "**Compliance & Management:** Culture of compliance, robust risk management, and performance\n",
    "management.\n",
    "    *   **Professional Development & Succession:** Ongoing board development and renewal\n",
    "planning.\n",
    "6.  **The \"4 P's\" of Corporate Governance Achievement:** People, Purpose, Process, and\n",
    "Performance – outlining key aspects for successful implementation.\n",
    "7.  **Corporate Governance\n",
    "Structure:** Directors hold fiduciary positions, overseeing management (CEO and team). Emphasizes\n",
    "board effectiveness (composition, skills, training, evaluation), shareholder management (engagement,\n",
    "grievance policies), audit quality, stakeholder engagement, and executive remuneration.\n",
    "8.\n",
    "**Environmental, Social, and Governance (ESG):**\n",
    "    *   A business review of a company’s economic,\n",
    "environmental, and social impacts.\n",
    "    *   **Business Responsibility and Sustainability Report\n",
    "(BRSR):** A significant evolution from BRR, mandatory for top 1000 listed entities from FY22-23,\n",
    "requiring detailed disclosures on ESG parameters based on NGRBC principles (essential and leadership\n",
    "indicators).\n",
    "9.  **Corporate Governance Scorecard:** Developed by BSE in collaboration with IFC and\n",
    "IiAS, it's a tool to evaluate and benchmark Indian corporates' governance practices based on\n",
    "publicly available data, aligning with G20/OECD principles.\n",
    "10. **Climate-Related Financial\n",
    "Disclosures (TCFD):** Recommendations focusing on four pillars: Governance, Strategy, Risk\n",
    "Management, and Metrics & Targets, indicating the increasing integration of climate change\n",
    "considerations into financial reporting and corporate strategy.\n",
    "11. **Importance and Impact:** CG is\n",
    "crucial for protecting investor interests, promoting transparency, building public confidence,\n",
    "ensuring ethical business practices, and creating long-term value for all stakeholders. The e-book\n",
    "also references historical corporate governance failures in India to underscore its critical need."
   ]
  }
 ],
 "metadata": {
  "kernelspec": {
   "display_name": "Python 3",
   "language": "python",
   "name": "python3"
  },
  "language_info": {
   "codemirror_mode": {
    "name": "ipython",
    "version": 3
   },
   "file_extension": ".py",
   "mimetype": "text/x-python",
   "name": "python",
   "nbconvert_exporter": "python",
   "pygments_lexer": "ipython3",
   "version": "3.13.5"
  }
 },
 "nbformat": 4,
 "nbformat_minor": 5
}
